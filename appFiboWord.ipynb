{
 "cells": [
  {
   "cell_type": "markdown",
   "metadata": {},
   "source": [
    "# Fibonacci Word Sequence Generator\n",
    "\n",
    "## A Web App built out of a Jupyter notebook using Voila"
   ]
  },
  {
   "cell_type": "code",
   "execution_count": 1,
   "metadata": {},
   "outputs": [
    {
     "data": {
      "application/vnd.jupyter.widget-view+json": {
       "model_id": "ecb23b40750647899bb7b9ad0f71db94",
       "version_major": 2,
       "version_minor": 0
      },
      "text/plain": [
       "interactive(children=(IntSlider(value=3, description='n', max=5, min=1), Output()), _dom_classes=('widget-inte…"
      ]
     },
     "metadata": {},
     "output_type": "display_data"
    }
   ],
   "source": [
    "import itertools\n",
    "import numpy as np\n",
    "# only to show dynamical interactivity\n",
    "import ipywidgets as widgets\n",
    "# dynamical interactive function \n",
    "@widgets.interact(n=(1, 5, 1))\n",
    "def FiboWordSeq(n): #desired order nesting sequence\n",
    "    wordseq = ['A'];#starting word\n",
    "    for i in range(1, n + 1):\n",
    "        # definition of substitution rule for Fibonacci word sequence\n",
    "        wordseq = list(map(lambda x: ['A','B'] if x == 'A' else 'A', wordseq));\n",
    "        #flatten out resulting list after characters replacement\n",
    "        wordseq = list(itertools.chain(*wordseq));\n",
    "    return wordseq, len(wordseq)"
   ]
  }
 ],
 "metadata": {
  "kernelspec": {
   "display_name": "Python 3",
   "language": "python",
   "name": "python3"
  },
  "language_info": {
   "codemirror_mode": {
    "name": "ipython",
    "version": 3
   },
   "file_extension": ".py",
   "mimetype": "text/x-python",
   "name": "python",
   "nbconvert_exporter": "python",
   "pygments_lexer": "ipython3",
   "version": "3.8.6"
  }
 },
 "nbformat": 4,
 "nbformat_minor": 4
}
